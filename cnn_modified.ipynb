{
  "nbformat": 4,
  "nbformat_minor": 0,
  "metadata": {
    "colab": {
      "provenance": []
    },
    "kernelspec": {
      "name": "python3",
      "display_name": "Python 3"
    },
    "language_info": {
      "name": "python"
    }
  },
  "cells": [
    {
      "cell_type": "code",
      "execution_count": 1,
      "metadata": {
        "colab": {
          "base_uri": "https://localhost:8080/"
        },
        "id": "EIvdLgXrZ5pd",
        "outputId": "5034f1c5-5bba-4bfc-e067-812fc84dc038"
      },
      "outputs": [
        {
          "output_type": "stream",
          "name": "stdout",
          "text": [
            "Mounted at /content/drive\n"
          ]
        }
      ],
      "source": [
        "from google.colab import drive\n",
        "drive.mount('/content/drive')"
      ]
    },
    {
      "cell_type": "code",
      "source": [
        "%cd /content/drive/MyDrive/Assignment1"
      ],
      "metadata": {
        "colab": {
          "base_uri": "https://localhost:8080/"
        },
        "id": "R7IDR9cLbqXI",
        "outputId": "78115dc2-0c3a-45dd-e833-f6b78d5647fd"
      },
      "execution_count": 2,
      "outputs": [
        {
          "output_type": "stream",
          "name": "stdout",
          "text": [
            "/content/drive/MyDrive/Assignment1\n"
          ]
        }
      ]
    },
    {
      "cell_type": "code",
      "source": [
        "#acquire data\n",
        "train_path = 'Training_data'\n",
        "valid_path = 'Testing_data'"
      ],
      "metadata": {
        "id": "pEdzMDFIbwAs"
      },
      "execution_count": 3,
      "outputs": []
    },
    {
      "cell_type": "code",
      "source": [
        "import tensorflow as tf\n",
        "#defining the model\n",
        "model = tf.keras.models.Sequential([\n",
        "    #First convolution\n",
        "    tf.keras.layers.Conv2D(filters=2,kernel_size=3,activation='sigmoid',input_shape=(224,224,3)),#changed the image size\n",
        "    tf.keras.layers.MaxPooling2D(pool_size=2,strides=1,padding='valid'),\n",
        "\n",
        "    #Second convolution\n",
        "    tf.keras.layers.Conv2D(filters=2,kernel_size=3,activation='relu'),\n",
        "    tf.keras.layers.MaxPooling2D(pool_size=2,strides=1,padding='valid'),\n",
        "\n",
        "    tf.keras.layers.Flatten(),\n",
        "\n",
        "    tf.keras.layers.Dense(100,activation='relu'),#modified here increase the number of neurons from 50 to 100 to increase accuracy\n",
        "\n",
        "    tf.keras.layers.Dense(5,activation='softmax'),\n",
        "])"
      ],
      "metadata": {
        "id": "AnPbRRs6b0I-"
      },
      "execution_count": 10,
      "outputs": []
    },
    {
      "cell_type": "code",
      "source": [
        "#getting the model summary\n",
        "model.summary()"
      ],
      "metadata": {
        "colab": {
          "base_uri": "https://localhost:8080/"
        },
        "id": "qdc7gJQqcbmd",
        "outputId": "d3f07f08-1dfb-4eac-bc5d-0fc9b815d1cb"
      },
      "execution_count": 5,
      "outputs": [
        {
          "output_type": "stream",
          "name": "stdout",
          "text": [
            "Model: \"sequential\"\n",
            "_________________________________________________________________\n",
            " Layer (type)                Output Shape              Param #   \n",
            "=================================================================\n",
            " conv2d (Conv2D)             (None, 122, 122, 2)       56        \n",
            "                                                                 \n",
            " max_pooling2d (MaxPooling2D  (None, 121, 121, 2)      0         \n",
            " )                                                               \n",
            "                                                                 \n",
            " conv2d_1 (Conv2D)           (None, 119, 119, 2)       38        \n",
            "                                                                 \n",
            " max_pooling2d_1 (MaxPooling  (None, 118, 118, 2)      0         \n",
            " 2D)                                                             \n",
            "                                                                 \n",
            " flatten (Flatten)           (None, 27848)             0         \n",
            "                                                                 \n",
            " dense (Dense)               (None, 100)               2784900   \n",
            "                                                                 \n",
            " dense_1 (Dense)             (None, 5)                 505       \n",
            "                                                                 \n",
            "=================================================================\n",
            "Total params: 2,785,499\n",
            "Trainable params: 2,785,499\n",
            "Non-trainable params: 0\n",
            "_________________________________________________________________\n"
          ]
        }
      ]
    },
    {
      "cell_type": "code",
      "source": [
        "#compiling the model\n",
        "from tensorflow.keras.optimizers import RMSprop\n",
        "\n",
        "model.compile(loss='categorical_crossentropy', \n",
        "             optimizer=RMSprop(lr=0.0001),\n",
        "             metrics=['accuracy']) "
      ],
      "metadata": {
        "id": "cHnSE_RKceGF"
      },
      "execution_count": 13,
      "outputs": []
    },
    {
      "cell_type": "code",
      "source": [
        "#train the model from the generators\n",
        "from tensorflow.keras.preprocessing.image import ImageDataGenerator\n",
        "\n",
        "\n",
        "train_datagen = ImageDataGenerator(rescale = 1./255)\n",
        "train_generator = train_datagen.flow_from_directory(train_path, \n",
        "                                                   target_size=(224,224), #changing the image size\n",
        "                                                    batch_size=16,\n",
        "                                                    class_mode='categorical')\n",
        "                                                   \n",
        "\n",
        "#All test images will be rescaled 1./255\n",
        "test_datagen = ImageDataGenerator(rescale = 1./255)\n",
        "\n",
        "#apply predefined specification to test the dataset\n",
        "test_set = test_datagen.flow_from_directory(valid_path,\n",
        "                                            target_size=(224,224), #changing the image size\n",
        "                                            batch_size = 16,\n",
        "                                            class_mode = 'categorical')"
      ],
      "metadata": {
        "colab": {
          "base_uri": "https://localhost:8080/"
        },
        "id": "1E4mrIZqckqR",
        "outputId": "65e89e06-6b3e-4417-97e9-19905107d8a7"
      },
      "execution_count": 14,
      "outputs": [
        {
          "output_type": "stream",
          "name": "stdout",
          "text": [
            "Found 523 images belonging to 5 classes.\n",
            "Found 128 images belonging to 5 classes.\n"
          ]
        }
      ]
    },
    {
      "cell_type": "code",
      "source": [
        "#training\n",
        "history = model.fit(train_generator,validation_data=test_set,steps_per_epoch=8,epochs=75)#increased the number of epochs from 50 to 75"
      ],
      "metadata": {
        "colab": {
          "base_uri": "https://localhost:8080/"
        },
        "id": "eqEbw-Mxc7uA",
        "outputId": "096ec8b1-f159-4471-ae3e-b417fd2ed5c1"
      },
      "execution_count": 15,
      "outputs": [
        {
          "output_type": "stream",
          "name": "stdout",
          "text": [
            "Epoch 1/75\n",
            "8/8 [==============================] - 8s 892ms/step - loss: 4.8454 - accuracy: 0.2266 - val_loss: 2.0012 - val_accuracy: 0.2109\n",
            "Epoch 2/75\n",
            "8/8 [==============================] - 7s 869ms/step - loss: 2.0317 - accuracy: 0.1797 - val_loss: 1.7813 - val_accuracy: 0.2344\n",
            "Epoch 3/75\n",
            "8/8 [==============================] - 7s 864ms/step - loss: 1.6958 - accuracy: 0.2812 - val_loss: 1.8021 - val_accuracy: 0.2656\n",
            "Epoch 4/75\n",
            "8/8 [==============================] - 8s 1s/step - loss: 1.7431 - accuracy: 0.2031 - val_loss: 1.6944 - val_accuracy: 0.2578\n",
            "Epoch 5/75\n",
            "8/8 [==============================] - 7s 873ms/step - loss: 1.8433 - accuracy: 0.2031 - val_loss: 1.7525 - val_accuracy: 0.2266\n",
            "Epoch 6/75\n",
            "8/8 [==============================] - 7s 876ms/step - loss: 1.6612 - accuracy: 0.2266 - val_loss: 1.7421 - val_accuracy: 0.2500\n",
            "Epoch 7/75\n",
            "8/8 [==============================] - 7s 878ms/step - loss: 1.7842 - accuracy: 0.2188 - val_loss: 1.8248 - val_accuracy: 0.2109\n",
            "Epoch 8/75\n",
            "8/8 [==============================] - 7s 898ms/step - loss: 1.5934 - accuracy: 0.2891 - val_loss: 1.7183 - val_accuracy: 0.2109\n",
            "Epoch 9/75\n",
            "8/8 [==============================] - 7s 849ms/step - loss: 1.8864 - accuracy: 0.1626 - val_loss: 1.6066 - val_accuracy: 0.1875\n",
            "Epoch 10/75\n",
            "8/8 [==============================] - 7s 852ms/step - loss: 1.6515 - accuracy: 0.3008 - val_loss: 1.7223 - val_accuracy: 0.1797\n",
            "Epoch 11/75\n",
            "8/8 [==============================] - 8s 1s/step - loss: 1.6597 - accuracy: 0.2188 - val_loss: 1.6110 - val_accuracy: 0.2344\n",
            "Epoch 12/75\n",
            "8/8 [==============================] - 7s 839ms/step - loss: 1.7235 - accuracy: 0.2520 - val_loss: 1.6075 - val_accuracy: 0.2344\n",
            "Epoch 13/75\n",
            "8/8 [==============================] - 7s 853ms/step - loss: 1.7614 - accuracy: 0.1875 - val_loss: 1.6098 - val_accuracy: 0.2109\n",
            "Epoch 14/75\n",
            "8/8 [==============================] - 7s 858ms/step - loss: 1.5966 - accuracy: 0.2734 - val_loss: 1.6476 - val_accuracy: 0.2500\n",
            "Epoch 15/75\n",
            "8/8 [==============================] - 7s 887ms/step - loss: 1.6645 - accuracy: 0.2266 - val_loss: 1.6257 - val_accuracy: 0.2734\n",
            "Epoch 16/75\n",
            "8/8 [==============================] - 7s 893ms/step - loss: 1.6475 - accuracy: 0.2344 - val_loss: 1.6088 - val_accuracy: 0.2500\n",
            "Epoch 17/75\n",
            "8/8 [==============================] - 7s 851ms/step - loss: 1.5815 - accuracy: 0.2358 - val_loss: 1.6794 - val_accuracy: 0.2578\n",
            "Epoch 18/75\n",
            "8/8 [==============================] - 7s 873ms/step - loss: 1.6286 - accuracy: 0.2734 - val_loss: 1.7266 - val_accuracy: 0.2500\n",
            "Epoch 19/75\n",
            "8/8 [==============================] - 7s 875ms/step - loss: 1.5712 - accuracy: 0.3047 - val_loss: 1.6839 - val_accuracy: 0.2578\n",
            "Epoch 20/75\n",
            "8/8 [==============================] - 7s 864ms/step - loss: 1.5908 - accuracy: 0.3281 - val_loss: 1.5923 - val_accuracy: 0.2578\n",
            "Epoch 21/75\n",
            "8/8 [==============================] - 7s 855ms/step - loss: 1.5473 - accuracy: 0.3672 - val_loss: 2.0010 - val_accuracy: 0.2109\n",
            "Epoch 22/75\n",
            "8/8 [==============================] - 7s 859ms/step - loss: 1.6188 - accuracy: 0.2734 - val_loss: 1.6135 - val_accuracy: 0.2500\n",
            "Epoch 23/75\n",
            "8/8 [==============================] - 6s 831ms/step - loss: 1.6288 - accuracy: 0.2764 - val_loss: 1.6360 - val_accuracy: 0.2734\n",
            "Epoch 24/75\n",
            "8/8 [==============================] - 7s 865ms/step - loss: 1.5626 - accuracy: 0.2734 - val_loss: 1.6149 - val_accuracy: 0.2266\n",
            "Epoch 25/75\n",
            "8/8 [==============================] - 7s 868ms/step - loss: 1.4894 - accuracy: 0.3281 - val_loss: 1.6054 - val_accuracy: 0.2500\n",
            "Epoch 26/75\n",
            "8/8 [==============================] - 9s 1s/step - loss: 1.5835 - accuracy: 0.3496 - val_loss: 1.6596 - val_accuracy: 0.2578\n",
            "Epoch 27/75\n",
            "8/8 [==============================] - 7s 870ms/step - loss: 1.6251 - accuracy: 0.2734 - val_loss: 1.5818 - val_accuracy: 0.3047\n",
            "Epoch 28/75\n",
            "8/8 [==============================] - 7s 870ms/step - loss: 1.5948 - accuracy: 0.2812 - val_loss: 1.6090 - val_accuracy: 0.2344\n",
            "Epoch 29/75\n",
            "8/8 [==============================] - 7s 873ms/step - loss: 1.5027 - accuracy: 0.3594 - val_loss: 1.6009 - val_accuracy: 0.2578\n",
            "Epoch 30/75\n",
            "8/8 [==============================] - 7s 855ms/step - loss: 1.5437 - accuracy: 0.3496 - val_loss: 1.6116 - val_accuracy: 0.2891\n",
            "Epoch 31/75\n",
            "8/8 [==============================] - 7s 875ms/step - loss: 1.5416 - accuracy: 0.3359 - val_loss: 1.6196 - val_accuracy: 0.2500\n",
            "Epoch 32/75\n",
            "8/8 [==============================] - 7s 866ms/step - loss: 1.5773 - accuracy: 0.2969 - val_loss: 1.5876 - val_accuracy: 0.2656\n",
            "Epoch 33/75\n",
            "8/8 [==============================] - 7s 845ms/step - loss: 1.4994 - accuracy: 0.3740 - val_loss: 1.6101 - val_accuracy: 0.2969\n",
            "Epoch 34/75\n",
            "8/8 [==============================] - 6s 838ms/step - loss: 1.5334 - accuracy: 0.2927 - val_loss: 1.7137 - val_accuracy: 0.1719\n",
            "Epoch 35/75\n",
            "8/8 [==============================] - 6s 857ms/step - loss: 1.5126 - accuracy: 0.3252 - val_loss: 1.6019 - val_accuracy: 0.2422\n",
            "Epoch 36/75\n",
            "8/8 [==============================] - 7s 866ms/step - loss: 1.5116 - accuracy: 0.3828 - val_loss: 1.5718 - val_accuracy: 0.2812\n",
            "Epoch 37/75\n",
            "8/8 [==============================] - 7s 867ms/step - loss: 1.5127 - accuracy: 0.3415 - val_loss: 1.6965 - val_accuracy: 0.1953\n",
            "Epoch 38/75\n",
            "8/8 [==============================] - 7s 862ms/step - loss: 1.5009 - accuracy: 0.3750 - val_loss: 1.6518 - val_accuracy: 0.2188\n",
            "Epoch 39/75\n",
            "8/8 [==============================] - 7s 868ms/step - loss: 1.5193 - accuracy: 0.3828 - val_loss: 1.7334 - val_accuracy: 0.1484\n",
            "Epoch 40/75\n",
            "8/8 [==============================] - 7s 863ms/step - loss: 1.5443 - accuracy: 0.3203 - val_loss: 1.6211 - val_accuracy: 0.2812\n",
            "Epoch 41/75\n",
            "8/8 [==============================] - 7s 867ms/step - loss: 1.5289 - accuracy: 0.3125 - val_loss: 1.5846 - val_accuracy: 0.2812\n",
            "Epoch 42/75\n",
            "8/8 [==============================] - 7s 860ms/step - loss: 1.4718 - accuracy: 0.3516 - val_loss: 1.6075 - val_accuracy: 0.2500\n",
            "Epoch 43/75\n",
            "8/8 [==============================] - 7s 842ms/step - loss: 1.5513 - accuracy: 0.2520 - val_loss: 1.5843 - val_accuracy: 0.2891\n",
            "Epoch 44/75\n",
            "8/8 [==============================] - 7s 841ms/step - loss: 1.4534 - accuracy: 0.3821 - val_loss: 1.6200 - val_accuracy: 0.2734\n",
            "Epoch 45/75\n",
            "8/8 [==============================] - 7s 841ms/step - loss: 1.5491 - accuracy: 0.3252 - val_loss: 1.6393 - val_accuracy: 0.3047\n",
            "Epoch 46/75\n",
            "8/8 [==============================] - 7s 858ms/step - loss: 1.4672 - accuracy: 0.4297 - val_loss: 1.6136 - val_accuracy: 0.2891\n",
            "Epoch 47/75\n",
            "8/8 [==============================] - 7s 859ms/step - loss: 1.4507 - accuracy: 0.3750 - val_loss: 1.5747 - val_accuracy: 0.2812\n",
            "Epoch 48/75\n",
            "8/8 [==============================] - 7s 861ms/step - loss: 1.4549 - accuracy: 0.4375 - val_loss: 1.6858 - val_accuracy: 0.3047\n",
            "Epoch 49/75\n",
            "8/8 [==============================] - 7s 841ms/step - loss: 1.4344 - accuracy: 0.4390 - val_loss: 1.5780 - val_accuracy: 0.2891\n",
            "Epoch 50/75\n",
            "8/8 [==============================] - 7s 857ms/step - loss: 1.5338 - accuracy: 0.3359 - val_loss: 1.5571 - val_accuracy: 0.3438\n",
            "Epoch 51/75\n",
            "8/8 [==============================] - 7s 859ms/step - loss: 1.4010 - accuracy: 0.4297 - val_loss: 1.6435 - val_accuracy: 0.2344\n",
            "Epoch 52/75\n",
            "8/8 [==============================] - 6s 835ms/step - loss: 1.4365 - accuracy: 0.4715 - val_loss: 1.7385 - val_accuracy: 0.2656\n",
            "Epoch 53/75\n",
            "8/8 [==============================] - 7s 848ms/step - loss: 1.4468 - accuracy: 0.3984 - val_loss: 1.6476 - val_accuracy: 0.2109\n",
            "Epoch 54/75\n",
            "8/8 [==============================] - 7s 866ms/step - loss: 1.4493 - accuracy: 0.3984 - val_loss: 1.7700 - val_accuracy: 0.1641\n",
            "Epoch 55/75\n",
            "8/8 [==============================] - 7s 844ms/step - loss: 1.4506 - accuracy: 0.4878 - val_loss: 1.6458 - val_accuracy: 0.2656\n",
            "Epoch 56/75\n",
            "8/8 [==============================] - 7s 867ms/step - loss: 1.4363 - accuracy: 0.3659 - val_loss: 1.6037 - val_accuracy: 0.2969\n",
            "Epoch 57/75\n",
            "8/8 [==============================] - 7s 849ms/step - loss: 1.3914 - accuracy: 0.4146 - val_loss: 1.6195 - val_accuracy: 0.2578\n",
            "Epoch 58/75\n",
            "8/8 [==============================] - 7s 863ms/step - loss: 1.4178 - accuracy: 0.4062 - val_loss: 1.5947 - val_accuracy: 0.3203\n",
            "Epoch 59/75\n",
            "8/8 [==============================] - 7s 866ms/step - loss: 1.4171 - accuracy: 0.4141 - val_loss: 1.6760 - val_accuracy: 0.2422\n",
            "Epoch 60/75\n",
            "8/8 [==============================] - 7s 838ms/step - loss: 1.4127 - accuracy: 0.4065 - val_loss: 1.6476 - val_accuracy: 0.2812\n",
            "Epoch 61/75\n",
            "8/8 [==============================] - 7s 866ms/step - loss: 1.3321 - accuracy: 0.5156 - val_loss: 1.6730 - val_accuracy: 0.2969\n",
            "Epoch 62/75\n",
            "8/8 [==============================] - 7s 861ms/step - loss: 1.4045 - accuracy: 0.4531 - val_loss: 1.5801 - val_accuracy: 0.2656\n",
            "Epoch 63/75\n",
            "8/8 [==============================] - 7s 865ms/step - loss: 1.4302 - accuracy: 0.4297 - val_loss: 1.6044 - val_accuracy: 0.3438\n",
            "Epoch 64/75\n",
            "8/8 [==============================] - 7s 858ms/step - loss: 1.4662 - accuracy: 0.4609 - val_loss: 1.5519 - val_accuracy: 0.3203\n",
            "Epoch 65/75\n",
            "8/8 [==============================] - 7s 857ms/step - loss: 1.3597 - accuracy: 0.5078 - val_loss: 1.7070 - val_accuracy: 0.3047\n",
            "Epoch 66/75\n",
            "8/8 [==============================] - 7s 855ms/step - loss: 1.4021 - accuracy: 0.4766 - val_loss: 1.6136 - val_accuracy: 0.3281\n",
            "Epoch 67/75\n",
            "8/8 [==============================] - 7s 858ms/step - loss: 1.3316 - accuracy: 0.4922 - val_loss: 1.5895 - val_accuracy: 0.3281\n",
            "Epoch 68/75\n",
            "8/8 [==============================] - 7s 869ms/step - loss: 1.4195 - accuracy: 0.4609 - val_loss: 1.5986 - val_accuracy: 0.3125\n",
            "Epoch 69/75\n",
            "8/8 [==============================] - 7s 863ms/step - loss: 1.2690 - accuracy: 0.5391 - val_loss: 1.7710 - val_accuracy: 0.2031\n",
            "Epoch 70/75\n",
            "8/8 [==============================] - 6s 836ms/step - loss: 1.3794 - accuracy: 0.3902 - val_loss: 1.6662 - val_accuracy: 0.2578\n",
            "Epoch 71/75\n",
            "8/8 [==============================] - 7s 857ms/step - loss: 1.4318 - accuracy: 0.4297 - val_loss: 1.5405 - val_accuracy: 0.3438\n",
            "Epoch 72/75\n",
            "8/8 [==============================] - 9s 1s/step - loss: 1.3005 - accuracy: 0.4844 - val_loss: 1.5619 - val_accuracy: 0.3438\n",
            "Epoch 73/75\n",
            "8/8 [==============================] - 7s 862ms/step - loss: 1.3154 - accuracy: 0.4531 - val_loss: 1.7696 - val_accuracy: 0.2422\n",
            "Epoch 74/75\n",
            "8/8 [==============================] - 7s 862ms/step - loss: 1.3771 - accuracy: 0.4453 - val_loss: 1.6135 - val_accuracy: 0.2578\n",
            "Epoch 75/75\n",
            "8/8 [==============================] - 7s 867ms/step - loss: 1.3070 - accuracy: 0.5312 - val_loss: 1.6477 - val_accuracy: 0.3438\n"
          ]
        }
      ]
    },
    {
      "cell_type": "code",
      "source": [
        "#plot variation in loss and accuracy\n",
        "import matplotlib.pyplot as plt\n",
        "\n",
        "#plot the loss\n",
        "plt.plot(history.history['loss'],label='train loss')\n",
        "plt.plot(history.history['val_loss'],label='val loss')\n",
        "plt.xlabel('Epoch')\n",
        "plt.ylabel('Accuracy')\n",
        "plt.legend()\n",
        "plt.show()\n",
        "plt.savefig('q2_IT20076016_loss')\n",
        "\n",
        "#plot the accuracy\n",
        "plt.plot(history.history['accuracy'],label='train acc')\n",
        "plt.plot(history.history['val_accuracy'],label='val acc')\n",
        "plt.legend()\n",
        "plt.show()\n",
        "plt.savefig('q2_ IT20076016_accuracy')"
      ],
      "metadata": {
        "colab": {
          "base_uri": "https://localhost:8080/",
          "height": 547
        },
        "id": "rUsNBN4yfSVq",
        "outputId": "dc1e1e20-0b91-457d-cb5e-ce16430bf5bc"
      },
      "execution_count": 16,
      "outputs": [
        {
          "output_type": "display_data",
          "data": {
            "text/plain": [
              "<Figure size 432x288 with 1 Axes>"
            ],
            "image/png": "[encoded data removed]"
          },
          "metadata": {
            "needs_background": "light"
          }
        },
        {
          "output_type": "display_data",
          "data": {
            "text/plain": [
              "<Figure size 432x288 with 1 Axes>"
            ],
            "image/png": "[encoded data removed]"
          },
          "metadata": {
            "needs_background": "light"
          }
        },
        {
          "output_type": "display_data",
          "data": {
            "text/plain": [
              "<Figure size 432x288 with 0 Axes>"
            ]
          },
          "metadata": {}
        }
      ]
    }
  ]
}