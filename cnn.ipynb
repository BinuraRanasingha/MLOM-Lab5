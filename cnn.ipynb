{
  "nbformat": 4,
  "nbformat_minor": 0,
  "metadata": {
    "colab": {
      "provenance": [],
      "collapsed_sections": []
    },
    "kernelspec": {
      "name": "python3",
      "display_name": "Python 3"
    },
    "language_info": {
      "name": "python"
    }
  },
  "cells": [
    {
      "cell_type": "code",
      "execution_count": 1,
      "metadata": {
        "colab": {
          "base_uri": "https://localhost:8080/"
        },
        "id": "nIiBB5iS2EIn",
        "outputId": "40e26db1-6b68-459c-c145-c196bcb4bd69"
      },
      "outputs": [
        {
          "output_type": "stream",
          "name": "stdout",
          "text": [
            "Mounted at /content/drive\n"
          ]
        }
      ],
      "source": [
        "from google.colab import drive\n",
        "drive.mount('/content/drive')"
      ]
    },
    {
      "cell_type": "code",
      "source": [
        "%cd /content/drive/MyDrive/Assignment1"
      ],
      "metadata": {
        "colab": {
          "base_uri": "https://localhost:8080/"
        },
        "id": "V_fOTgCv2Xp0",
        "outputId": "e81908c5-9729-4df6-cea0-99d5ac5b758a"
      },
      "execution_count": 8,
      "outputs": [
        {
          "output_type": "stream",
          "name": "stdout",
          "text": [
            "/content/drive/MyDrive/Assignment1\n"
          ]
        }
      ]
    },
    {
      "cell_type": "code",
      "source": [
        "#acquire data\n",
        "train_path = 'Training_data'\n",
        "valid_path = 'Testing_data'"
      ],
      "metadata": {
        "id": "uSOHwQ4R2gL_"
      },
      "execution_count": 9,
      "outputs": []
    },
    {
      "cell_type": "code",
      "source": [
        "import tensorflow as tf\n",
        "#defining the model\n",
        "model = tf.keras.models.Sequential([\n",
        "    #First convolution\n",
        "    tf.keras.layers.Conv2D(filters=2,kernel_size=3,activation='sigmoid',input_shape=(124,124,3)),\n",
        "    tf.keras.layers.MaxPooling2D(pool_size=2,strides=1,padding='valid'),\n",
        "\n",
        "    #Second convolution\n",
        "    tf.keras.layers.Conv2D(filters=2,kernel_size=3,activation='relu'),\n",
        "    tf.keras.layers.MaxPooling2D(pool_size=2,strides=1,padding='valid'),\n",
        "\n",
        "    tf.keras.layers.Flatten(),\n",
        "\n",
        "    tf.keras.layers.Dense(50,activation='relu'),\n",
        "\n",
        "    tf.keras.layers.Dense(5,activation='softmax'),\n",
        "])"
      ],
      "metadata": {
        "id": "JQRwTpUsDeDq"
      },
      "execution_count": 15,
      "outputs": []
    },
    {
      "cell_type": "code",
      "source": [
        "#getting the model summary\n",
        "model.summary()"
      ],
      "metadata": {
        "colab": {
          "base_uri": "https://localhost:8080/"
        },
        "id": "xxUw9HAeO313",
        "outputId": "786e2193-151b-4555-d04c-76d84da95e1a"
      },
      "execution_count": 16,
      "outputs": [
        {
          "output_type": "stream",
          "name": "stdout",
          "text": [
            "Model: \"sequential_2\"\n",
            "_________________________________________________________________\n",
            " Layer (type)                Output Shape              Param #   \n",
            "=================================================================\n",
            " conv2d_4 (Conv2D)           (None, 122, 122, 2)       56        \n",
            "                                                                 \n",
            " max_pooling2d_4 (MaxPooling  (None, 121, 121, 2)      0         \n",
            " 2D)                                                             \n",
            "                                                                 \n",
            " conv2d_5 (Conv2D)           (None, 119, 119, 2)       38        \n",
            "                                                                 \n",
            " max_pooling2d_5 (MaxPooling  (None, 118, 118, 2)      0         \n",
            " 2D)                                                             \n",
            "                                                                 \n",
            " flatten_2 (Flatten)         (None, 27848)             0         \n",
            "                                                                 \n",
            " dense_4 (Dense)             (None, 50)                1392450   \n",
            "                                                                 \n",
            " dense_5 (Dense)             (None, 5)                 255       \n",
            "                                                                 \n",
            "=================================================================\n",
            "Total params: 1,392,799\n",
            "Trainable params: 1,392,799\n",
            "Non-trainable params: 0\n",
            "_________________________________________________________________\n"
          ]
        }
      ]
    },
    {
      "cell_type": "code",
      "source": [
        "#compiling the model\n",
        "from tensorflow.keras.optimizers import RMSprop\n",
        "\n",
        "model.compile(loss='categorical_crossentropy', \n",
        "             optimizer=RMSprop(lr=0.0001),\n",
        "             metrics=['accuracy']) "
      ],
      "metadata": {
        "colab": {
          "base_uri": "https://localhost:8080/"
        },
        "id": "iyrsmL0xPHYQ",
        "outputId": "4263b48b-ec9e-4c25-89a6-6ec75cfd1fbc"
      },
      "execution_count": 17,
      "outputs": [
        {
          "output_type": "stream",
          "name": "stderr",
          "text": [
            "/usr/local/lib/python3.7/dist-packages/keras/optimizer_v2/rmsprop.py:130: UserWarning: The `lr` argument is deprecated, use `learning_rate` instead.\n",
            "  super(RMSprop, self).__init__(name, **kwargs)\n"
          ]
        }
      ]
    },
    {
      "cell_type": "code",
      "source": [
        "#train the model from the generators\n",
        "from tensorflow.keras.preprocessing.image import ImageDataGenerator\n",
        "\n",
        "\n",
        "train_datagen = ImageDataGenerator(rescale = 1./255)\n",
        "train_generator = train_datagen.flow_from_directory(train_path, \n",
        "                                                   target_size=(124,124), #changed the image size to 224\n",
        "                                                    batch_size=16,\n",
        "                                                    class_mode='categorical')\n",
        "                                                   \n",
        "\n",
        "#All test images will be rescaled 1./255\n",
        "test_datagen = ImageDataGenerator(rescale = 1./255)\n",
        "\n",
        "#apply predefined specification to test the dataset\n",
        "test_set = test_datagen.flow_from_directory(valid_path,\n",
        "                                            target_size=(224,224), #changed the image size to 224\n",
        "                                            batch_size = 16,\n",
        "                                            class_mode = 'categorical')"
      ],
      "metadata": {
        "colab": {
          "base_uri": "https://localhost:8080/"
        },
        "id": "UAi895C9PW66",
        "outputId": "fe94e7f1-2dd9-4ab6-8084-a1bec34e788e"
      },
      "execution_count": 24,
      "outputs": [
        {
          "output_type": "stream",
          "name": "stdout",
          "text": [
            "Found 523 images belonging to 5 classes.\n",
            "Found 128 images belonging to 5 classes.\n"
          ]
        }
      ]
    },
    {
      "cell_type": "code",
      "source": [
        "#training\n",
        "history = model.fit(train_generator,validation_data=test_set,steps_per_epoch=8,epochs=50)#validation_data is the testing data"
      ],
      "metadata": {
        "colab": {
          "base_uri": "https://localhost:8080/"
        },
        "id": "S7qHQ0dCQctC",
        "outputId": "fe1dc19a-1d77-44bd-982d-35914ea455c0"
      },
      "execution_count": 20,
      "outputs": [
        {
          "output_type": "stream",
          "name": "stdout",
          "text": [
            "Epoch 1/50\n",
            "8/8 [==============================] - 127s 17s/step - loss: 2.1113 - accuracy: 0.3125 - val_loss: 1.6037 - val_accuracy: 0.2656\n",
            "Epoch 2/50\n",
            "8/8 [==============================] - 52s 7s/step - loss: 1.5882 - accuracy: 0.3125 - val_loss: 1.5937 - val_accuracy: 0.2656\n",
            "Epoch 3/50\n",
            "8/8 [==============================] - 39s 5s/step - loss: 1.6169 - accuracy: 0.2578 - val_loss: 1.5941 - val_accuracy: 0.2656\n",
            "Epoch 4/50\n",
            "8/8 [==============================] - 24s 3s/step - loss: 1.6118 - accuracy: 0.2276 - val_loss: 1.6093 - val_accuracy: 0.1875\n",
            "Epoch 5/50\n",
            "8/8 [==============================] - 19s 2s/step - loss: 1.6217 - accuracy: 0.2439 - val_loss: 1.6023 - val_accuracy: 0.2656\n",
            "Epoch 6/50\n",
            "8/8 [==============================] - 13s 2s/step - loss: 1.6067 - accuracy: 0.2422 - val_loss: 1.5986 - val_accuracy: 0.2656\n",
            "Epoch 7/50\n",
            "8/8 [==============================] - 10s 1s/step - loss: 1.5951 - accuracy: 0.2656 - val_loss: 1.5995 - val_accuracy: 0.2656\n",
            "Epoch 8/50\n",
            "8/8 [==============================] - 11s 1s/step - loss: 1.6124 - accuracy: 0.2422 - val_loss: 1.5948 - val_accuracy: 0.2656\n",
            "Epoch 9/50\n",
            "8/8 [==============================] - 6s 664ms/step - loss: 1.5949 - accuracy: 0.2602 - val_loss: 1.5958 - val_accuracy: 0.2656\n",
            "Epoch 10/50\n",
            "8/8 [==============================] - 4s 581ms/step - loss: 1.5997 - accuracy: 0.2344 - val_loss: 1.5943 - val_accuracy: 0.2656\n",
            "Epoch 11/50\n",
            "8/8 [==============================] - 5s 616ms/step - loss: 1.6124 - accuracy: 0.2422 - val_loss: 1.5948 - val_accuracy: 0.2656\n",
            "Epoch 12/50\n",
            "8/8 [==============================] - 4s 479ms/step - loss: 1.5535 - accuracy: 0.3281 - val_loss: 1.6141 - val_accuracy: 0.2656\n",
            "Epoch 13/50\n",
            "8/8 [==============================] - 4s 525ms/step - loss: 1.5815 - accuracy: 0.3008 - val_loss: 1.5962 - val_accuracy: 0.2656\n",
            "Epoch 14/50\n",
            "8/8 [==============================] - 3s 301ms/step - loss: 1.6065 - accuracy: 0.2812 - val_loss: 1.5933 - val_accuracy: 0.2656\n",
            "Epoch 15/50\n",
            "8/8 [==============================] - 2s 296ms/step - loss: 1.5967 - accuracy: 0.2520 - val_loss: 1.5989 - val_accuracy: 0.2656\n",
            "Epoch 16/50\n",
            "8/8 [==============================] - 3s 362ms/step - loss: 1.6032 - accuracy: 0.2656 - val_loss: 1.5915 - val_accuracy: 0.2656\n",
            "Epoch 17/50\n",
            "8/8 [==============================] - 3s 360ms/step - loss: 1.5849 - accuracy: 0.2812 - val_loss: 1.5953 - val_accuracy: 0.2656\n",
            "Epoch 18/50\n",
            "8/8 [==============================] - 2s 304ms/step - loss: 1.5767 - accuracy: 0.2656 - val_loss: 1.5921 - val_accuracy: 0.2656\n",
            "Epoch 19/50\n",
            "8/8 [==============================] - 2s 303ms/step - loss: 1.5907 - accuracy: 0.2656 - val_loss: 1.5925 - val_accuracy: 0.2656\n",
            "Epoch 20/50\n",
            "8/8 [==============================] - 2s 304ms/step - loss: 1.5671 - accuracy: 0.3281 - val_loss: 1.6105 - val_accuracy: 0.2188\n",
            "Epoch 21/50\n",
            "8/8 [==============================] - 4s 467ms/step - loss: 1.6083 - accuracy: 0.2276 - val_loss: 1.5919 - val_accuracy: 0.2656\n",
            "Epoch 22/50\n",
            "8/8 [==============================] - 4s 493ms/step - loss: 1.6017 - accuracy: 0.2109 - val_loss: 1.5912 - val_accuracy: 0.2656\n",
            "Epoch 23/50\n",
            "8/8 [==============================] - 2s 296ms/step - loss: 1.6043 - accuracy: 0.2846 - val_loss: 1.5914 - val_accuracy: 0.2656\n",
            "Epoch 24/50\n",
            "8/8 [==============================] - 2s 296ms/step - loss: 1.5840 - accuracy: 0.2520 - val_loss: 1.5989 - val_accuracy: 0.2656\n",
            "Epoch 25/50\n",
            "8/8 [==============================] - 2s 305ms/step - loss: 1.5963 - accuracy: 0.2969 - val_loss: 1.5902 - val_accuracy: 0.2656\n",
            "Epoch 26/50\n",
            "8/8 [==============================] - 2s 300ms/step - loss: 1.6171 - accuracy: 0.2031 - val_loss: 1.5932 - val_accuracy: 0.2656\n",
            "Epoch 27/50\n",
            "8/8 [==============================] - 2s 295ms/step - loss: 1.5799 - accuracy: 0.2764 - val_loss: 1.5902 - val_accuracy: 0.2656\n",
            "Epoch 28/50\n",
            "8/8 [==============================] - 2s 303ms/step - loss: 1.5729 - accuracy: 0.3359 - val_loss: 1.5895 - val_accuracy: 0.2656\n",
            "Epoch 29/50\n",
            "8/8 [==============================] - 2s 302ms/step - loss: 1.5873 - accuracy: 0.2578 - val_loss: 1.5894 - val_accuracy: 0.2656\n",
            "Epoch 30/50\n",
            "8/8 [==============================] - 2s 306ms/step - loss: 1.6030 - accuracy: 0.2734 - val_loss: 1.5898 - val_accuracy: 0.2656\n",
            "Epoch 31/50\n",
            "8/8 [==============================] - 2s 293ms/step - loss: 1.6001 - accuracy: 0.2683 - val_loss: 1.5961 - val_accuracy: 0.2578\n",
            "Epoch 32/50\n",
            "8/8 [==============================] - 2s 303ms/step - loss: 1.5751 - accuracy: 0.3281 - val_loss: 1.5928 - val_accuracy: 0.2656\n",
            "Epoch 33/50\n",
            "8/8 [==============================] - 3s 349ms/step - loss: 1.5876 - accuracy: 0.2422 - val_loss: 1.5884 - val_accuracy: 0.2656\n",
            "Epoch 34/50\n",
            "8/8 [==============================] - 2s 303ms/step - loss: 1.5763 - accuracy: 0.2891 - val_loss: 1.5873 - val_accuracy: 0.2656\n",
            "Epoch 35/50\n",
            "8/8 [==============================] - 2s 300ms/step - loss: 1.5925 - accuracy: 0.2422 - val_loss: 1.5868 - val_accuracy: 0.2656\n",
            "Epoch 36/50\n",
            "8/8 [==============================] - 2s 303ms/step - loss: 1.5770 - accuracy: 0.2578 - val_loss: 1.5864 - val_accuracy: 0.2656\n",
            "Epoch 37/50\n",
            "8/8 [==============================] - 2s 294ms/step - loss: 1.5776 - accuracy: 0.2846 - val_loss: 1.5855 - val_accuracy: 0.2656\n",
            "Epoch 38/50\n",
            "8/8 [==============================] - 2s 302ms/step - loss: 1.5859 - accuracy: 0.2734 - val_loss: 1.5910 - val_accuracy: 0.2656\n",
            "Epoch 39/50\n",
            "8/8 [==============================] - 2s 293ms/step - loss: 1.5752 - accuracy: 0.2764 - val_loss: 1.6113 - val_accuracy: 0.2656\n",
            "Epoch 40/50\n",
            "8/8 [==============================] - 2s 306ms/step - loss: 1.6004 - accuracy: 0.2969 - val_loss: 1.5846 - val_accuracy: 0.2656\n",
            "Epoch 41/50\n",
            "8/8 [==============================] - 2s 305ms/step - loss: 1.5907 - accuracy: 0.1953 - val_loss: 1.5867 - val_accuracy: 0.2578\n",
            "Epoch 42/50\n",
            "8/8 [==============================] - 2s 295ms/step - loss: 1.5854 - accuracy: 0.3008 - val_loss: 1.5881 - val_accuracy: 0.2578\n",
            "Epoch 43/50\n",
            "8/8 [==============================] - 2s 303ms/step - loss: 1.5876 - accuracy: 0.2031 - val_loss: 1.5837 - val_accuracy: 0.2656\n",
            "Epoch 44/50\n",
            "8/8 [==============================] - 2s 304ms/step - loss: 1.5950 - accuracy: 0.1875 - val_loss: 1.5976 - val_accuracy: 0.2656\n",
            "Epoch 45/50\n",
            "8/8 [==============================] - 2s 300ms/step - loss: 1.5936 - accuracy: 0.2422 - val_loss: 1.5962 - val_accuracy: 0.2578\n",
            "Epoch 46/50\n",
            "8/8 [==============================] - 2s 299ms/step - loss: 1.5781 - accuracy: 0.2422 - val_loss: 1.5827 - val_accuracy: 0.2656\n",
            "Epoch 47/50\n",
            "8/8 [==============================] - 2s 302ms/step - loss: 1.5553 - accuracy: 0.3281 - val_loss: 1.6082 - val_accuracy: 0.2656\n",
            "Epoch 48/50\n",
            "8/8 [==============================] - 2s 304ms/step - loss: 1.5897 - accuracy: 0.3203 - val_loss: 1.5920 - val_accuracy: 0.2656\n",
            "Epoch 49/50\n",
            "8/8 [==============================] - 2s 297ms/step - loss: 1.5581 - accuracy: 0.2602 - val_loss: 1.5849 - val_accuracy: 0.2656\n",
            "Epoch 50/50\n",
            "8/8 [==============================] - 2s 296ms/step - loss: 1.5228 - accuracy: 0.3252 - val_loss: 1.6351 - val_accuracy: 0.2656\n"
          ]
        }
      ]
    },
    {
      "cell_type": "code",
      "source": [
        "#plot variation in loss and accuracy\n",
        "import matplotlib.pyplot as plt\n",
        "\n",
        "#plot the loss\n",
        "plt.plot(history.history['loss'],label='train loss')\n",
        "plt.plot(history.history['val_loss'],label='val loss')\n",
        "plt.xlabel('Epoch')\n",
        "plt.ylabel('Accuracy')\n",
        "plt.legend()\n",
        "plt.show()\n",
        "plt.savefig('q1_IT20076016_loss')\n",
        "\n",
        "#plot the accuracy\n",
        "plt.plot(history.history['accuracy'],label='train acc')\n",
        "plt.plot(history.history['val_accuracy'],label='val acc')\n",
        "plt.legend()\n",
        "plt.show()\n",
        "plt.savefig('q1_ IT20076016_accuracy')"
      ],
      "metadata": {
        "colab": {
          "base_uri": "https://localhost:8080/",
          "height": 544
        },
        "id": "hFX_7MdPRO7u",
        "outputId": "0760f929-3147-49d5-d597-dddda8460266"
      },
      "execution_count": 23,
      "outputs": [
        {
          "output_type": "display_data",
          "data": {
            "text/plain": [
              "<Figure size 432x288 with 1 Axes>"
            ],
            "image/png": "[encoded data removed]"
          },
          "metadata": {
            "needs_background": "light"
          }
        },
        {
          "output_type": "display_data",
          "data": {
            "text/plain": [
              "<Figure size 432x288 with 1 Axes>"
            ],
            "image/png": "[encoded data removed]"
          },
          "metadata": {
            "needs_background": "light"
          }
        },
        {
          "output_type": "display_data",
          "data": {
            "text/plain": [
              "<Figure size 432x288 with 0 Axes>"
            ]
          },
          "metadata": {}
        }
      ]
    }
  ]
}